{
 "cells": [
  {
   "cell_type": "markdown",
   "id": "d317db44-24c9-43be-8b0b-e0fd87be9565",
   "metadata": {},
   "source": [
    "# Data Science Tools and Ecosystem\n",
    "In this notebook, Data Science Tools and Ecosystem are summarized.\n",
    "Some of the popular languages that Data Scientists use are:\n",
    "1. R\n",
    "2. Python\n",
    "3. SQL\n",
    "4. Julia\n",
    "5. Java\n",
    "\n",
    "Some of the commonly used libraries used by Data Scientists include:\n",
    "1. Pandas\n",
    "2. NumPy\n",
    "3. Matplotlib\n",
    "4. TensorFlow\n",
    "\n",
    "|Data Science Tools\n",
    "|------------------\n",
    "|Jupyter Notebook\n",
    "|GitHub\n",
    "|RStudio\n",
    "\n",
    "### Below are a few examples of evaluating arithmetic expressions in Python"
   ]
  },
  {
   "cell_type": "code",
   "execution_count": 1,
   "id": "34317658-a4e4-4061-a2bb-490988c9346e",
   "metadata": {},
   "outputs": [
    {
     "data": {
      "text/plain": [
       "17"
      ]
     },
     "execution_count": 1,
     "metadata": {},
     "output_type": "execute_result"
    }
   ],
   "source": [
    "#This a simple arithmetic expression to mutiply then add integers\n",
    "(3*4)+5"
   ]
  },
  {
   "cell_type": "code",
   "execution_count": 2,
   "id": "d8d15808-998e-4660-a12f-59e38be33199",
   "metadata": {},
   "outputs": [
    {
     "data": {
      "text/plain": [
       "3.3333333333333335"
      ]
     },
     "execution_count": 2,
     "metadata": {},
     "output_type": "execute_result"
    }
   ],
   "source": [
    "#This will convert 200 minutes to hours by diving by 60\n",
    "200/60"
   ]
  },
  {
   "cell_type": "markdown",
   "id": "37d16739-15f0-4aee-b668-7578b96a057c",
   "metadata": {},
   "source": [
    "**Objectives**\n",
    "* list polular languages in Data Science\n",
    "* List popular libraries in Data Science\n",
    "* Teach to use jupyter notebooks\n",
    "* Teach to use GitHub"
   ]
  },
  {
   "cell_type": "markdown",
   "id": "a9c95d6a-4826-4672-9983-96b87ec43c99",
   "metadata": {},
   "source": [
    "## Author\n",
    "Agnieszka Sander"
   ]
  }
 ],
 "metadata": {
  "kernelspec": {
   "display_name": "Python 3 (ipykernel)",
   "language": "python",
   "name": "python3"
  },
  "language_info": {
   "codemirror_mode": {
    "name": "ipython",
    "version": 3
   },
   "file_extension": ".py",
   "mimetype": "text/x-python",
   "name": "python",
   "nbconvert_exporter": "python",
   "pygments_lexer": "ipython3",
   "version": "3.12.9"
  }
 },
 "nbformat": 4,
 "nbformat_minor": 5
}
